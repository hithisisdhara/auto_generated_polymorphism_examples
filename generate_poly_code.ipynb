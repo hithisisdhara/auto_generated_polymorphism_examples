{
 "cells": [
  {
   "cell_type": "code",
   "execution_count": 1,
   "metadata": {},
   "outputs": [],
   "source": [
    "import random"
   ]
  },
  {
   "cell_type": "code",
   "execution_count": 2,
   "metadata": {},
   "outputs": [],
   "source": [
    "pc = \"public class \"\n",
    "ex = \" extends \"\n",
    "a = \"\\t\\tpublic void a(){\\n\"\n",
    "twoend = \"\\t\\t}\\n\"\n",
    "b = \"\\t\\tpublic void b(){\\n\"\n",
    "pr = \"\\t\\t\\t print \"\n",
    "calla = \"\\t\\t\\t a()\"\n",
    "callb = \"\\t\\t\\t b()\"\n",
    "callsa = \"\\t\\t\\t super.a()\"\n",
    "callsb = \"\\t\\t\\t super.b()\""
   ]
  },
  {
   "cell_type": "code",
   "execution_count": 3,
   "metadata": {},
   "outputs": [],
   "source": [
    "def class_choices(num_classes = 4,forA=65):\n",
    "    return [chr(i) for i in xrange(forA, forA+num_classes)]\n",
    "\n",
    "def geneology(classes):\n",
    "    children = {}\n",
    "    p = random.choice(classes)\n",
    "    root = p\n",
    "    children[p]= set()\n",
    "    classes.remove(p)\n",
    "    while classes:\n",
    "        c = random.choice(classes)\n",
    "        children[c]= set()\n",
    "        classes.remove(c)\n",
    "        children[p].add(c)\n",
    "        p = random.choice(children.keys())\n",
    "    return children, root\n",
    "\n",
    "children, root = geneology(class_choices())"
   ]
  },
  {
   "cell_type": "code",
   "execution_count": 4,
   "metadata": {},
   "outputs": [],
   "source": [
    "#method_actions = set([pr, callsa, callsb])\n",
    "corr = {'a':callb, 'b':calla}\n",
    "pick_lines = 2"
   ]
  },
  {
   "cell_type": "code",
   "execution_count": 5,
   "metadata": {},
   "outputs": [],
   "source": [
    "def writemethod(name, C, corr, method_actions):\n",
    "    if name == 'a':\n",
    "        print a\n",
    "    else:\n",
    "        print b\n",
    "        \n",
    "    # method_actions.add(corr[name])\n",
    "    \n",
    "    for m in random.sample(method_actions,min(pick_lines, len(method_actions))):\n",
    "        extra = \";\" if m!= pr else C+\";\"\n",
    "        print m+extra\n",
    "        \n",
    "    #method_actions.remove(corr[name])\n",
    "    print twoend"
   ]
  },
  {
   "cell_type": "code",
   "execution_count": 6,
   "metadata": {},
   "outputs": [],
   "source": [
    "def has(desired = 0.5):\n",
    "    prob = random.uniform(0,1);\n",
    "    return prob < desired\n",
    "def pick_methods():\n",
    "    method_names = []\n",
    "    if has():\n",
    "        method_names.append(\"a\")\n",
    "    if has():\n",
    "        method_names.append(\"b\")\n",
    "    return method_names"
   ]
  },
  {
   "cell_type": "code",
   "execution_count": 7,
   "metadata": {},
   "outputs": [],
   "source": [
    "def writeclass(S,  method_actions, method_names = None, P = None, prob_a = 0.6, prob_b=0.7):\n",
    "    extra = S+ex+P+\"{\" if P else S+\"{\"\n",
    "    print pc + extra\n",
    "    # first pick if you are goint to write a\n",
    "    if len(method_names) == 2:\n",
    "            choose = random.choice(method_names)\n",
    "            method_names.remove(choose)\n",
    "            other = method_names[0]\n",
    "\n",
    "            #the  first one we write, is allowed to call the otehr \n",
    "            method_actions.add(corr[choose])\n",
    "            writemethod(choose,S,corr, method_actions)\n",
    "            method_actions.remove(corr[choose])\n",
    "    for m in method_names:\n",
    "        writemethod(m,S,corr,method_actions)\n",
    "    print \"}\""
   ]
  },
  {
   "cell_type": "code",
   "execution_count": 8,
   "metadata": {},
   "outputs": [],
   "source": [
    "method_actions = set([pr])"
   ]
  },
  {
   "cell_type": "code",
   "execution_count": 9,
   "metadata": {},
   "outputs": [
    {
     "name": "stdout",
     "output_type": "stream",
     "text": [
      "public class A{\n",
      "\t\tpublic void b(){\n",
      "\n",
      "\t\t\t a();\n",
      "\t\t\t print A;\n",
      "\t\t}\n",
      "\n",
      "\t\tpublic void a(){\n",
      "\n",
      "\t\t\t print A;\n",
      "\t\t}\n",
      "\n",
      "}\n",
      "public class D extends A{\n",
      "\t\tpublic void a(){\n",
      "\n",
      "\t\t\t super.a();\n",
      "\t\t\t b();\n",
      "\t\t}\n",
      "\n",
      "\t\tpublic void b(){\n",
      "\n",
      "\t\t\t super.a();\n",
      "\t\t\t super.b();\n",
      "\t\t}\n",
      "\n",
      "}\n",
      "public class B extends C{\n",
      "\t\tpublic void b(){\n",
      "\n",
      "\t\t\t print B;\n",
      "\t\t\t super.a();\n",
      "\t\t}\n",
      "\n",
      "}\n",
      "public class C extends D{\n",
      "\t\tpublic void b(){\n",
      "\n",
      "\t\t\t a();\n",
      "\t\t\t print C;\n",
      "\t\t}\n",
      "\n",
      "\t\tpublic void a(){\n",
      "\n",
      "\t\t\t super.b();\n",
      "\t\t\t super.a();\n",
      "\t\t}\n",
      "\n",
      "}\n"
     ]
    }
   ],
   "source": [
    "writeclass(root, method_actions,[\"a\",\"b\"])\n",
    "method_actions.add(callsa)\n",
    "method_actions.add(callsb)\n",
    "for k,v in children.items():\n",
    "    if v:\n",
    "        for chi in v:\n",
    "            writeclass(chi,method_actions,pick_methods(), k)"
   ]
  },
  {
   "cell_type": "code",
   "execution_count": null,
   "metadata": {},
   "outputs": [],
   "source": []
  }
 ],
 "metadata": {
  "kernelspec": {
   "display_name": "Python 2",
   "language": "python",
   "name": "python2"
  },
  "language_info": {
   "codemirror_mode": {
    "name": "ipython",
    "version": 2
   },
   "file_extension": ".py",
   "mimetype": "text/x-python",
   "name": "python",
   "nbconvert_exporter": "python",
   "pygments_lexer": "ipython2",
   "version": "2.7.15"
  }
 },
 "nbformat": 4,
 "nbformat_minor": 2
}
