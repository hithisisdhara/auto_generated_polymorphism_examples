{
 "cells": [
  {
   "cell_type": "code",
   "execution_count": 1,
   "metadata": {},
   "outputs": [],
   "source": [
    "import random"
   ]
  },
  {
   "cell_type": "code",
   "execution_count": 2,
   "metadata": {},
   "outputs": [],
   "source": [
    "pc = \"public class \"\n",
    "ex = \" extends \"\n",
    "a = \"\\t\\tpublic void a(){\\n\"\n",
    "twoend = \"\\t\\t}\\n\"\n",
    "b = \"\\t\\tpublic void b(){\\n\"\n",
    "pr = \"\\t\\t\\t print \"\n",
    "calla = \"\\t\\t\\t a()\"\n",
    "callb = \"\\t\\t\\t b()\"\n",
    "callsa = \"\\t\\t\\t super.a()\"\n",
    "callsb = \"\\t\\t\\t super.b()\""
   ]
  },
  {
   "cell_type": "code",
   "execution_count": 3,
   "metadata": {},
   "outputs": [],
   "source": [
    "def class_choices(num_classes = 4,forA=65):\n",
    "    return [chr(i) for i in xrange(forA, forA+num_classes)]\n",
    "\n",
    "def geneology(classes):\n",
    "    children = {}\n",
    "    p = random.choice(classes)\n",
    "    root = p\n",
    "    children[p]= set()\n",
    "    classes.remove(p)\n",
    "    while classes:\n",
    "        c = random.choice(classes)\n",
    "        children[c]= set()\n",
    "        classes.remove(c)\n",
    "        children[p].add(c)\n",
    "        p = random.choice(children.keys())\n",
    "    return children, root\n",
    "\n",
    "children, root = geneology(class_choices())"
   ]
  },
  {
   "cell_type": "code",
   "execution_count": 4,
   "metadata": {},
   "outputs": [],
   "source": [
    "names = {'a':a, 'b':b}\n",
    "corr = {'a':callb, 'b':calla}\n",
    "pick_lines = 2"
   ]
  },
  {
   "cell_type": "code",
   "execution_count": 5,
   "metadata": {},
   "outputs": [],
   "source": [
    "def writemethod(name, C, corr, method_actions):\n",
    "    print names[name]\n",
    "    \n",
    "    for m in random.sample(method_actions,min(pick_lines, len(method_actions))):\n",
    "        extra = \";\" if m!= pr else C+\" \"+name+\";\"\n",
    "        print m+extra\n",
    "\n",
    "    print twoend"
   ]
  },
  {
   "cell_type": "code",
   "execution_count": 6,
   "metadata": {},
   "outputs": [],
   "source": [
    "def has(desired = 0.5):\n",
    "    prob = random.uniform(0,1);\n",
    "    return prob < desired\n",
    "def pick_methods(prob_a = 0.5, prob_b=0.5):\n",
    "    method_names = []\n",
    "    if has(prob_a):\n",
    "        method_names.append(\"a\")\n",
    "    if has(prob_b):\n",
    "        method_names.append(\"b\")\n",
    "    return method_names"
   ]
  },
  {
   "cell_type": "code",
   "execution_count": 7,
   "metadata": {},
   "outputs": [],
   "source": [
    "def writeclass(S,  method_actions, method_names = None, P = None):\n",
    "    extra = S+ex+P+\"{\" if P else S+\"{\"\n",
    "    print pc + extra\n",
    "    # first pick if you are goint to write a\n",
    "    if len(method_names) == 2:\n",
    "            choose = random.choice(method_names)\n",
    "            method_names.remove(choose)\n",
    "            other = method_names[0]\n",
    "            #the  first one we write, is allowed to call the other\n",
    "            method_actions.add(corr[choose])\n",
    "            writemethod(choose,S,corr, method_actions)\n",
    "            method_actions.remove(corr[choose])\n",
    "    for m in method_names:\n",
    "        writemethod(m,S,corr,method_actions)\n",
    "    print \"}\""
   ]
  },
  {
   "cell_type": "code",
   "execution_count": 8,
   "metadata": {},
   "outputs": [],
   "source": [
    "method_actions = set([pr])"
   ]
  },
  {
   "cell_type": "code",
   "execution_count": 9,
   "metadata": {},
   "outputs": [
    {
     "name": "stdout",
     "output_type": "stream",
     "text": [
      "public class D{\n",
      "\t\tpublic void b(){\n",
      "\n",
      "\t\t\t print D b;\n",
      "\t\t\t a();\n",
      "\t\t}\n",
      "\n",
      "\t\tpublic void a(){\n",
      "\n",
      "\t\t\t print D a;\n",
      "\t\t}\n",
      "\n",
      "}\n",
      "public class C extends A{\n",
      "\t\tpublic void b(){\n",
      "\n",
      "\t\t\t super.b();\n",
      "\t\t\t print C b;\n",
      "\t\t}\n",
      "\n",
      "}\n",
      "public class A extends B{\n",
      "\t\tpublic void a(){\n",
      "\n",
      "\t\t\t super.b();\n",
      "\t\t\t b();\n",
      "\t\t}\n",
      "\n",
      "\t\tpublic void b(){\n",
      "\n",
      "\t\t\t super.a();\n",
      "\t\t\t print A b;\n",
      "\t\t}\n",
      "\n",
      "}\n",
      "public class B extends D{\n",
      "\t\tpublic void b(){\n",
      "\n",
      "\t\t\t super.a();\n",
      "\t\t\t super.b();\n",
      "\t\t}\n",
      "\n",
      "}\n"
     ]
    }
   ],
   "source": [
    "writeclass(root, method_actions,pick_methods(1,1))\n",
    "method_actions.add(callsa)\n",
    "method_actions.add(callsb)\n",
    "for k,v in children.items():\n",
    "    if v:\n",
    "        for chi in v:\n",
    "            writeclass(chi,method_actions,pick_methods(), k)"
   ]
  }
 ],
 "metadata": {
  "kernelspec": {
   "display_name": "Python 2",
   "language": "python",
   "name": "python2"
  },
  "language_info": {
   "codemirror_mode": {
    "name": "ipython",
    "version": 2
   },
   "file_extension": ".py",
   "mimetype": "text/x-python",
   "name": "python",
   "nbconvert_exporter": "python",
   "pygments_lexer": "ipython2",
   "version": "2.7.15"
  }
 },
 "nbformat": 4,
 "nbformat_minor": 2
}
